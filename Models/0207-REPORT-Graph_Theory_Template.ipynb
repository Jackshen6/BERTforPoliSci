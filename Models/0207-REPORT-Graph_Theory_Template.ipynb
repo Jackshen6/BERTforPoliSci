{
 "cells": [
  {
   "cell_type": "markdown",
   "metadata": {},
   "source": [
    "# <center>Using Graph Theory in Political Science</center>\n",
    "\n",
    "<center>by Nikolas Frantzeskakis</center>"
   ]
  },
  {
   "cell_type": "markdown",
   "metadata": {},
   "source": [
    "Graph theory is used frequently in political science. Graph theory powers network analysis which is gaining a lot of traction in the field. One of the more frequent types of data used in Political Science are dyadic data. Dyadic data describe the relationship between two actors of interest, which form the dyad. These points could be countries, as is often the case in the sub-field of International Relations, individuals, or any other kind of actor. It is also possible to have dyads where the actors are not of the same kind. For example a dataset might be comprised of dyads formed between countries and individual firms or groups of insurgents. Critically, these dyadic data describe the relations of all the possible dyads in a specific environment. So graphing the dyadic relations in the form of a network is a good way to observe the kinds of structures that develop between all the sets of dyads in that specific network. The prevalence of research questions on how actors relate to each other makes network analysis a potent tool for political scientists.\n",
    "\n",
    "Network diagrams have been in use in political science since the 1970s, with researchers attempting to create a picture of the modern world system (Galtung 1971, Baumgartner and Burns 1976, Wallerstein 1974). More recently, networks drew a lot of attention in relation to the analysis of terrorist networks (Kerbs 2002). At the same time, the increased capabilities of computers have made it easier and cheaper to develop network graphs. Contemporaneously, the proliferation of social networks and especially twitter created vast amounts of data that people study in relation to politics. As it becomes clear from the above examples, graph theory and network analysis are used in political science in the most part for descriptive purposes. People are for the most part interested in detecting who the most central actors are in a given network using a number of different centrality measures.\n",
    "\n",
    "However, tools are being developed that allow for a more analytical approach to networks. I am going to briefly describe two such methods. The first one is the exponential-family random graph models, or ERGM (Hunter et al. 2008). ERGMs provide a way to estimate and evaluate the effect of exogenous covariates and also the effect of generative processes that lead to the observed structures. They conceptualize the observed network data as just one realization of a set of possible networks with similar important characteristics produced by some unknown stochastic process. So, the range of possible networks and their probability\n",
    "of occurrence under the model is represented by a probability distribution on the set of all possible graphs. An ERGM estimates model parameters using the observed network as a guide. The main shortcoming is they assume we observe the entire network, something almost never true in the sosical sciences.\n",
    "\n",
    "A second approach to study netwroks in an analytical way is through additive and multiplicative effects, or AME (Minhas et al. 2016). The goal of AME is to model the effect of interactions between dyads on the creation of other interactions between different dyads. Their proposed model obtains degree based effects for actors in the network as well as the level of reciprocity of the links between actors. One potential problem, though, is that group similar looking but not theoretically linked cases.\n",
    "\n",
    "\n",
    "\n",
    "\n",
    "\n"
   ]
  },
  {
   "cell_type": "markdown",
   "metadata": {},
   "source": [
    "---\n",
    "# References\n",
    "\n",
    "\n",
    "BaumgartnerT, Burns T. 1976. The structuring of international economic relations. Int. Stud.Q. 19(2):126–59\n",
    "\n",
    "Galtung J. 1971. A structural theory of imperialism. J. Peace Res. 8(2):81–117\n",
    "\n",
    "Hunter, David R., et al. \"ergm: A package to fit, simulate and diagnose exponential-family models for networks.\" Journal of statistical software 24.3 (2008): nihpa54860.\n",
    "\n",
    "Krebs VE. 2002. Mapping networks of terrorist cells. Connections 23(3):43–52\n",
    "\n",
    "Minhas, Shahryar, Peter D. Hoff, and Michael D. Ward. \"Inferential approaches for network analysis: AMEN for latent factor models.\" Political Analysis 27.2 (2019): 208-222.\n",
    "\n",
    "Wallerstein IM. 1974. The Modern World-System, Vol. I: Capitalist Agriculture and the Origins of the European\n",
    "World-Economy in the Sixteenth Century. New York/London: Academic Press\n",
    "\n"
   ]
  }
 ],
 "metadata": {
  "anaconda-cloud": {},
  "kernelspec": {
   "display_name": "Python 3",
   "language": "python",
   "name": "python3"
  },
  "language_info": {
   "codemirror_mode": {
    "name": "ipython",
    "version": 3
   },
   "file_extension": ".py",
   "mimetype": "text/x-python",
   "name": "python",
   "nbconvert_exporter": "python",
   "pygments_lexer": "ipython3",
   "version": "3.7.4"
  }
 },
 "nbformat": 4,
 "nbformat_minor": 1
}
