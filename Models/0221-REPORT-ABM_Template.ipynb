{
 "cells": [
  {
   "cell_type": "markdown",
   "metadata": {},
   "source": [
    "# <center>Using Agent Based Models in Political Science</center>\n",
    "\n",
    "<center>by Nikolaos Frantzeskakis</center>"
   ]
  },
  {
   "cell_type": "markdown",
   "metadata": {},
   "source": [
    "While the use of Agent Based Modeling is not very widespread in political science, one could come up with an infinite number of possible applications. For this reason, the interest in ABMs among political scientists is growing (Kollman and Page 2005). The drawback is that in most cases the systems we are interested in can be extremely complicated and the the amount of missing data enormous (Mitchell 2009, Page 2011).\n",
    "\n",
    "Despite these serious reservations, a number of applications have been built. Research on voter turnout is one topic in which ABMs have been used. Various studies have tried out different learning rules that allow for habituation and test how that explains voter turnout in the real world (Bendor et al. 2003, Fowler 2006). \n",
    "\n",
    "Other intriguing applications take into account the effects of identity. For instance, Rousseau and van der Veen's study looks into the impact of shared identities in the international system. They used a model of the diffusion of identities across individuals within a society as the basis for the operation of similar variables among states to transform the international system from one governed by balance of power to one governed by norms or identities. They find that there is a greater likelihood for the emergence of shared identity under conditions of crisis and a decrease in the emergence of shared identity in the presence of influential entrepreneurs.\n",
    "\n",
    "My reasearch focuses on parliaments in Africa and specifically on the behavior of members of parliament. ABMs could potentially be very useful in such a well defined environment. It should be possible to create each MP as a separate agent and model their behavior based on their known characteristcs, like whether their party, whether they hold ministerial positions, their gender, the kind of constituency they represent etc. Such a model could be used for example to predict how an MP would vote on a given bill, or how likely they would be to take the floor when a specific topic is being discussed.\n"
   ]
  },
  {
   "cell_type": "markdown",
   "metadata": {},
   "source": [
    "---\n",
    "# References\n",
    "\n",
    "Kollman K, Page S. 2005. Computational methods and models of politics. In The Handbook of Computational Economics, ed. L Tesfatsion, K Judd, pp. 1433–63. Amsterdam: Elsevier/North Holland\n",
    "\n",
    "Mitchell M. 2009. Complexity: A Guided Tour. Oxford, UK: Oxford Univ. Press\n",
    "\n",
    "Page SE. 2011. Diversity and Complexity. Princeton, NJ: Princeton Univ. Press\n",
    "\n",
    "David L. Rousseau and Maurits van der Veen, \"The Emergence of a Shared Identity: A Simulation, Journal of Conflict Resolution. 49 (October 2005). 686-712."
   ]
  },
  {
   "cell_type": "code",
   "execution_count": null,
   "metadata": {},
   "outputs": [],
   "source": []
  }
 ],
 "metadata": {
  "anaconda-cloud": {},
  "kernelspec": {
   "display_name": "Python 3",
   "language": "python",
   "name": "python3"
  },
  "language_info": {
   "codemirror_mode": {
    "name": "ipython",
    "version": 3
   },
   "file_extension": ".py",
   "mimetype": "text/x-python",
   "name": "python",
   "nbconvert_exporter": "python",
   "pygments_lexer": "ipython3",
   "version": "3.7.4"
  }
 },
 "nbformat": 4,
 "nbformat_minor": 1
}
