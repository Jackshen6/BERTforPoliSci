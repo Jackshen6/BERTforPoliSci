{
 "cells": [
  {
   "cell_type": "markdown",
   "metadata": {},
   "source": [
    "# <center>Using Optimization in Comparative Politics</center>\n",
    "\n",
    "<center>by Nikolaos Frantzeskakis</center>"
   ]
  },
  {
   "cell_type": "markdown",
   "metadata": {},
   "source": [
    "Comparative Politics is a subfield of political science, so it tends to follow the general trends of the discipline when it comes to which research methods are more prevalent at any given time. Political science in it's earlier modern stages was dominated by qualitative studies. For the past several decades, though, quantitative methods have been central in the discipline. However, since the goal is to make causal claims about the world researchers were drawn to the use of statistical methods which provided an avenue for backing one's arguements with numbers regarding how the main dependent variable of a study is linked to the theorized independent variable. \n",
    "\n",
    "For a long period the introduction of statistics, and as a result, optimization methods like the least squares regression, caused paradigm wars between supporters of traditional qualitative methods and those who were introducing quantitative methods. The final act of the war came with the publication of the book Designing Social Inquiry: Scientific Inference in Qualitative Research, by King, Keohane, and Verba in 1994. In their seminal work KKV created the basis for a ceasefire between the two camps by offering strong theoretical arguments for the use of quantitative methods in political science as well as some main issues that one should address so that the inerences made through quatitative methods lead to theoretical innovation. Earlier studies made use of OLS regressions in which they included every variable even remotely related to the dependent variable as long as the reasearch could find the data. KKV argued against the use of such \"kitchen sink regressions\" which ended up not being informative at all. As a result, optimization methods have been prevalent in Comparative Politics.\n",
    "\n",
    "While OLS with each well defined set of assumptions and straightforward interpretation is the first optimization method young political scientists are bieng taught, the field becomes more and more advanced. Aside from OLS, different models quickly started being used in order to study different kinds of data. Examples would be logistic regressions, poisson models, negative binomial models, beta regression etc. More recently, other forms of optimization have been incorporated in studying political networks via network analysis (Dorf et al. 2019), or text analysis problems are being addressed via the analysis of latent variables (Benoit 2016).\n",
    "\n",
    "In my personal research I constantly make use of optimization methods. In a recently published paper my co-authors and I look at how clarity of responsibility affects voter turnout. In other words we are arguing that in political systems where the political institutions and the current political arrangements make it easier for voters to attribute responsibility for policy outcomes there will be higher turnout in national elections (Park, Frantzeskakis, and Shin 2019). In order to test our theory we use OLS regression with panel corrected standard errors. We find that, indeed, higher clarity of responsibility leads to higher voter turnout in the subsequent national elections. \n",
    "\n"
   ]
  },
  {
   "cell_type": "markdown",
   "metadata": {},
   "source": [
    "---\n",
    "# References\n",
    "\n",
    "Benoit, Kenneth, et al. \"Crowd-sourced text analysis: Reproducible and agile production of political data.\" American Political Science Review 110.2 (2016): 278-295.\n",
    "\n",
    "Dorff, Cassy, Max Gallop, and Shahryar Minhas. \"Networks of violence: Predicting conflict in Nigeria.\" (2019).\n",
    "\n",
    "King, Gary, Robert O. Keohane, and Sidney Verba. Designing social inquiry: Scientific inference in qualitative research. Princeton university press, 1994.\n",
    "\n",
    "Park, Brandon Beomseob, Nikolaos Frantzeskakis, and Jungsub Shin. \"Who is responsible? The effect of clarity of responsibility on voter turnout.\" West European Politics 42.3 (2019): 464-494.\n",
    "\n"
   ]
  },
  {
   "cell_type": "markdown",
   "metadata": {},
   "source": []
  }
 ],
 "metadata": {
  "anaconda-cloud": {},
  "kernelspec": {
   "display_name": "Python 3",
   "language": "python",
   "name": "python3"
  },
  "language_info": {
   "codemirror_mode": {
    "name": "ipython",
    "version": 3
   },
   "file_extension": ".py",
   "mimetype": "text/x-python",
   "name": "python",
   "nbconvert_exporter": "python",
   "pygments_lexer": "ipython3",
   "version": "3.7.4"
  }
 },
 "nbformat": 4,
 "nbformat_minor": 1
}
