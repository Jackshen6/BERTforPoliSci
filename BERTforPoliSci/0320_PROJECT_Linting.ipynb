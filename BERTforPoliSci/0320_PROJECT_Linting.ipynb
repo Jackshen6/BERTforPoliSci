{
 "cells": [
  {
   "cell_type": "markdown",
   "metadata": {},
   "source": [
    "In order to successfully complete this assignment you need to commit changes to your shared git repository on or before **11:59pm on Friday March 20**."
   ]
  },
  {
   "cell_type": "markdown",
   "metadata": {},
   "source": [
    "# <center>Delinting (linting) your python code</center>\n",
    "\n",
    "<img src=\"https://lh4.googleusercontent.com/i0hZKXrihnUtlAQM6Hb89zo296lPckUN7FVMGih3D7z9WjueaImCXd98pAHA4GzHMrTFLglWqbGa2OxyDa2Y7ihp18ljIiaLIaHwNZSA4sRre3RRxrDcFj2FIv0c=w224\" width=20% alt=\"pyTest logo\">"
   ]
  },
  {
   "cell_type": "markdown",
   "metadata": {},
   "source": [
    "\n",
    "When writing a computer program it is important to keep in mind that the program should not only run correctly, but also be written in a clear way so that other people can understand it. Style guilds exists to help programmers use standard formatting to make it easier for everyone to read.  Probably the most common style guild for Python was introduced as the eight ever \"Python Enhancement Proposal\".  This style guild is called pep8: \n",
    "\n",
    "### Python Enhancement Proposal Eight:\n",
    "* [PEP 8 -- Style Guild for Python](https://www.python.org/dev/peps/pep-0008/)\n",
    "* [A little cleaner pep8 guild](https://pep8.org/)\n",
    "\n",
    "Linting programs (Delinting is probably more correct) are used to help you automatically review your python source code and provide helpful hints on where the code does not meet a coding standard and/or how you could make your code look better. The Anaconda installation comes with the most standard linting program [pylint](http://www.pylint.org/).\n",
    "\n",
    "\n",
    "There are a few linting programs made for jupyter notebooks but none of them (that I know of) come with the Anaconda install. Instead most linting is done on python scripts.  The following programs are designed to help you analize your code to make it better:\n",
    "\n",
    "* [coverage.py](https://coverage.readthedocs.io/en/v4.5.x/) =  measuring code coverage of Python programs\n",
    "* [dovpanda](https://github.com/dovpanda-dev/dovpanda) - direcitons over pandas\n",
    "* [removestar](https://www.asmeurer.com/removestar/) - Tool to automatically replace ```import *``` imports with explicit imports\n",
    "* [pyflakes](https://pypi.org/project/pyflakes/) - Python linter (error checker) ignores style\n",
    "* [pychecker](http://pychecker.sourceforge.net/) - Python error checker\n",
    "* [pyreverse](https://www.logilab.org/blogentry/6883) - UML diagrams for python classes\n",
    "* [black](https://github.com/psf/black) - Uncompromising python code formatter\n",
    "* [autopep8](https://pypi.org/project/autopep8/) - Program that tries to automatically convert your python code to the pep8 standard.\n",
    "* [flynt](https://pypi.org/project/flynt/) - CLI tool to convert a python project’s .format(…) and %-formatted strings to f-strings.\n",
    "* [snoop](https://pypi.org/project/snoop/) - Debugger\n",
    "\n"
   ]
  },
  {
   "cell_type": "markdown",
   "metadata": {},
   "source": [
    "The following file will create a \"lint_requirements.txt\" file in your current folder. We can use a ```requirements``` file to list software that needs to be installed. In this example, lets install a few of the above tools: "
   ]
  },
  {
   "cell_type": "code",
   "execution_count": null,
   "metadata": {},
   "outputs": [],
   "source": [
    "%%writefile lint_requirements.txt\n",
    "converge\n",
    "pyflakes\n",
    "pylint\n",
    "removestar"
   ]
  },
  {
   "cell_type": "code",
   "execution_count": 2,
   "metadata": {},
   "outputs": [],
   "source": [
    "import autopep8"
   ]
  },
  {
   "cell_type": "code",
   "execution_count": 9,
   "metadata": {},
   "outputs": [
    {
     "name": "stdout",
     "output_type": "stream",
     "text": [
      "************* Module bert_cap\n",
      "bert_cap.py:17:0: C0301: Line too long (120/100) (line-too-long)\n",
      "bert_cap.py:20:0: C0103: Argument name \"topicCode\" doesn't conform to snake_case naming style (invalid-name)\n",
      "bert_cap.py:48:0: C0103: Argument name \"topicCode\" doesn't conform to snake_case naming style (invalid-name)\n",
      "bert_cap.py:61:0: C0103: Argument name \"topicCode\" doesn't conform to snake_case naming style (invalid-name)\n",
      "bert_cap.py:83:12: R1720: Unnecessary \"else\" after \"raise\" (no-else-raise)\n",
      "bert_cap.py:101:0: W0102: Dangerous default value [] as argument (dangerous-default-value)\n",
      "bert_cap.py:101:0: W0102: Dangerous default value [] as argument (dangerous-default-value)\n",
      "bert_cap.py:124:4: R1705: Unnecessary \"elif\" after \"return\" (no-else-return)\n",
      "bert_cap.py:101:0: R1710: Either all return statements in a function should return an expression, or none of them should. (inconsistent-return-statements)\n",
      "bert_cap.py:134:0: C0103: Argument name \"confusionMatrix\" doesn't conform to snake_case naming style (invalid-name)\n",
      "bert_cap.py:134:0: C0103: Argument name \"Precision\" doesn't conform to snake_case naming style (invalid-name)\n",
      "bert_cap.py:134:0: C0103: Argument name \"Recall\" doesn't conform to snake_case naming style (invalid-name)\n",
      "bert_cap.py:134:0: C0103: Argument name \"f1\" doesn't conform to snake_case naming style (invalid-name)\n",
      "bert_cap.py:134:0: R0913: Too many arguments (8/5) (too-many-arguments)\n",
      "bert_cap.py:138:8: W0613: Unused argument 'confusionMatrix' (unused-argument)\n",
      "bert_cap.py:139:8: W0613: Unused argument 'Precision' (unused-argument)\n",
      "bert_cap.py:140:8: W0613: Unused argument 'Recall' (unused-argument)\n",
      "bert_cap.py:14:0: C0411: standard import \"import random\" should be placed before \"import numpy as np\" (wrong-import-order)\n",
      "\n",
      "--------------------------------------------------------------------\n",
      "\n",
      "Your code has been rated at 7.43/10 (previous run: -5.86/10, +13.29)\n",
      "\n",
      "\n",
      "\n"
     ]
    }
   ],
   "source": [
    "!pylint bert_cap"
   ]
  },
  {
   "cell_type": "code",
   "execution_count": 10,
   "metadata": {},
   "outputs": [],
   "source": [
    "!autopep8 --in-place --aggressive --aggressive bert_cap.py"
   ]
  },
  {
   "cell_type": "code",
   "execution_count": 17,
   "metadata": {},
   "outputs": [
    {
     "name": "stdout",
     "output_type": "stream",
     "text": [
      "************* Module test_bert_cap\n",
      "test_bert_cap.py:1:0: C0114: Missing module docstring (missing-module-docstring)\n",
      "test_bert_cap.py:13:0: C0116: Missing function or method docstring (missing-function-docstring)\n",
      "test_bert_cap.py:20:12: C0103: Variable name \"topicCode\" doesn't conform to snake_case naming style (invalid-name)\n",
      "test_bert_cap.py:20:4: W0612: Unused variable 'speech' (unused-variable)\n",
      "test_bert_cap.py:28:0: C0116: Missing function or method docstring (missing-function-docstring)\n",
      "test_bert_cap.py:55:0: C0116: Missing function or method docstring (missing-function-docstring)\n",
      "test_bert_cap.py:75:4: C0200: Consider using enumerate instead of iterating with range and len (consider-using-enumerate)\n",
      "test_bert_cap.py:72:16: W0612: Unused variable 'data_test' (unused-variable)\n",
      "test_bert_cap.py:10:0: W0611: Unused import pytest (unused-import)\n",
      "test_bert_cap.py:10:0: C0411: third party import \"import pytest\" should be placed before \"import bert_cap as bc\" (wrong-import-order)\n",
      "\n",
      "-------------------------------------------------------------------\n",
      "\n",
      "Your code has been rated at 7.06/10 (previous run: -2.65/10, +9.71)\n",
      "\n",
      "\n",
      "\n"
     ]
    }
   ],
   "source": [
    "!pylint test_bert_cap"
   ]
  },
  {
   "cell_type": "code",
   "execution_count": 16,
   "metadata": {},
   "outputs": [],
   "source": [
    "!autopep8 --in-place --aggressive --aggressive test_bert_cap.py"
   ]
  },
  {
   "cell_type": "markdown",
   "metadata": {},
   "source": [
    "Now lets create a conda enviornment using these requirements."
   ]
  },
  {
   "cell_type": "markdown",
   "metadata": {},
   "source": [
    "----\n",
    "<a name=\"Installing_linters\"></a>\n",
    "\n",
    "# 2. Installing Linters\n",
    "\n",
    "&#9989;**<font color=red>QUESTION:</font>** Where you able to install one of the linters?  If not, where did you get stuck?\n",
    "\n",
    "&#9989;**<font color=red>DO THIS:</font>** Work with your table to figure out how to install the code and run the delinter on your project software.  What kinds of things are you seeing?"
   ]
  },
  {
   "cell_type": "markdown",
   "metadata": {},
   "source": [
    "----\n",
    "<a name=\"Code_Review\"></a>\n",
    "\n",
    "# 3. Lint your code\n",
    "\n",
    "&#9989;**<font color=red>DO THIS:</font>** Using pylint measure the amount of \"lint\" in each of your python files (This is on a scale of 10). Modify your code to improve your pylint score.  Try to get your code to a level something above 6 or 7.  See if you can even reach a level of 10 for some/all of your files.  \n",
    "\n",
    "\n"
   ]
  },
  {
   "cell_type": "markdown",
   "metadata": {},
   "source": [
    "-----\n",
    "\n",
    "### Congratulations, you are done!\n",
    "\n",
    "Now, you just need to commit and push this report to your project git repository. "
   ]
  }
 ],
 "metadata": {
  "anaconda-cloud": {},
  "kernelspec": {
   "display_name": "Python 3",
   "language": "python",
   "name": "python3"
  },
  "language_info": {
   "codemirror_mode": {
    "name": "ipython",
    "version": 3
   },
   "file_extension": ".py",
   "mimetype": "text/x-python",
   "name": "python",
   "nbconvert_exporter": "python",
   "pygments_lexer": "ipython3",
   "version": "3.7.4"
  }
 },
 "nbformat": 4,
 "nbformat_minor": 4
}
